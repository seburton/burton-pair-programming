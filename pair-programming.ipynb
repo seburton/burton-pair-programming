{
 "cells": [
  {
   "cell_type": "code",
   "execution_count": 5,
   "id": "6fc5b5e3-a508-44a0-8426-12d7510bc46f",
   "metadata": {},
   "outputs": [],
   "source": [
    "import numpy as np"
   ]
  },
  {
   "cell_type": "code",
   "execution_count": 7,
   "id": "6ad8bd17-a819-4716-b1b5-e53aa83e6352",
   "metadata": {},
   "outputs": [],
   "source": [
    "#write function to change coordinates from polar to cartesian\n",
    "def polar_to_cartesian(theta,r):\n",
    "    x = r * np.cos(theta)\n",
    "    y = r * np.sin(theta)\n",
    "    return (x,y)"
   ]
  },
  {
   "cell_type": "code",
   "execution_count": 11,
   "id": "8fdf269d-2516-45f5-8ca3-79e9d5306bff",
   "metadata": {},
   "outputs": [],
   "source": [
    "def test_polar_to_cartesian():\n",
    "    assert polar_to_cartesian(np.pi,1) == (-1.0, 0)"
   ]
  },
  {
   "cell_type": "code",
   "execution_count": 10,
   "id": "095df655-92c0-4dba-86ab-3c987abadd2d",
   "metadata": {},
   "outputs": [
    {
     "data": {
      "text/plain": [
       "1.2246467991473532e-16"
      ]
     },
     "execution_count": 10,
     "metadata": {},
     "output_type": "execute_result"
    }
   ],
   "source": [
    "np.sin(np.pi)"
   ]
  }
 ],
 "metadata": {
  "kernelspec": {
   "display_name": "Python 3 (ipykernel)",
   "language": "python",
   "name": "python3"
  },
  "language_info": {
   "codemirror_mode": {
    "name": "ipython",
    "version": 3
   },
   "file_extension": ".py",
   "mimetype": "text/x-python",
   "name": "python",
   "nbconvert_exporter": "python",
   "pygments_lexer": "ipython3",
   "version": "3.9.13"
  }
 },
 "nbformat": 4,
 "nbformat_minor": 5
}
