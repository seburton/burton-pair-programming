{
 "cells": [
  {
   "cell_type": "code",
   "execution_count": 4,
   "id": "6fc5b5e3-a508-44a0-8426-12d7510bc46f",
   "metadata": {},
   "outputs": [],
   "source": [
    "import numpy as np"
   ]
  },
  {
   "cell_type": "code",
   "execution_count": 91,
   "id": "6ad8bd17-a819-4716-b1b5-e53aa83e6352",
   "metadata": {},
   "outputs": [],
   "source": [
    "#write function to change coordinates from polar to cartesian\n",
    "def polar_to_cartesian(theta,r):\n",
    "    x = r * np.cos(theta)\n",
    "    y = r * np.sin(theta)\n",
    "    return (x,y)"
   ]
  },
  {
   "cell_type": "markdown",
   "id": "7d867f75-377d-48d2-8a47-36082a188cfa",
   "metadata": {},
   "source": [
    "## Feedback\n",
    "A correct algorithm is implemented correctly in your function, and you have a comment that explains what your function does. However, it would be nice to have a docstring instead of the comment above the function, so that information about the function can be accessed without having to look at the code around the function. "
   ]
  },
  {
   "cell_type": "code",
   "execution_count": 92,
   "id": "8fdf269d-2516-45f5-8ca3-79e9d5306bff",
   "metadata": {},
   "outputs": [],
   "source": [
    "def test_polar_to_cartesian():\n",
    "    \"\"\"\n",
    "    Tests if polar_to_cartesian() obeys known properties of polar coordinates.\n",
    "    Parameters\n",
    "    ----------\n",
    "    None\n",
    "    \n",
    "    Returns\n",
    "    -------\n",
    "    None\n",
    "    \n",
    "    Raises\n",
    "    ------\n",
    "    AssertionError\n",
    "        If polar_to_cartesian() fails \n",
    "    \n",
    "    Notes\n",
    "    -----\n",
    "    We verify the identities polar_to_cartesian(Θ,r) == polar_to_cartesian(Θ+2π,r) \n",
    "    and polar_to_cartesian(Θ,r) == -polar_to_cartesian(Θ,-r) for a 300 random points.\n",
    "    We also verify that polar_to_cartesian(0,1) returns (1,0).\n",
    "    \"\"\"\n",
    "    \n",
    "    #Pick an error tolerance\n",
    "    tolerance = 10**-13\n",
    "    \n",
    "    # Test if polar_to_cartesian(0,1) = (1,0)\n",
    "    x,y = polar_to_cartesian(0,1)\n",
    "    assert ((x-1)**2 + (y)**2)**.5 < tolerance, 'Value is incorrect at (Θ,r) = (0,1)'\n",
    "    \n",
    "    for i in range(300):\n",
    "        #randomly generate a pairing (Θ,r) with which to test properties\n",
    "        theta = np.random.rand()*10\n",
    "        r = np.random.rand()*10\n",
    "    \n",
    "        #Use polar_to_cartesian to compute rectangular coordinates for\n",
    "        #(Θ,r) (Θ+2π,r) (Θ,-r)\n",
    "        x,y = polar_to_cartesian(theta,r)\n",
    "        x2,y2 = polar_to_cartesian(theta+2*np.pi,r)\n",
    "        x3,y3 = polar_to_cartesian(theta,-r)\n",
    "    \n",
    "        #print(((x2-x)**2 + (y2-y)**2)**.5,((x3+x)**2 + (y3+y)**2)**.5)\n",
    "    \n",
    "        #Test if (Θ,r) and (Θ+2π,r) give the same point to within a Euclidean distance of tolerance\n",
    "        assert ((x2-x)**2 + (y2-y)**2)**.5 < tolerance, 'Polar coordinates fail to be 2π periodic in Θ to within 10^-13'\n",
    "        #Test if (Θ,-r) gives inverse rectangular coordinates to those of (Θ,r) to within a Euclidean distance of tolerance\n",
    "        assert ((x3+x)**2 + (y3+y)**2)**.5 < tolerance, 'Inverting r fails to invert x and y to within 10^-13'"
   ]
  },
  {
   "cell_type": "code",
   "execution_count": 93,
   "id": "095df655-92c0-4dba-86ab-3c987abadd2d",
   "metadata": {},
   "outputs": [],
   "source": [
    "test_polar_to_cartesian()"
   ]
  },
  {
   "cell_type": "code",
   "execution_count": null,
   "id": "636cdb25-d1ce-4c52-b2f6-8587b5435316",
   "metadata": {},
   "outputs": [],
   "source": []
  }
 ],
 "metadata": {
  "kernelspec": {
   "display_name": "Python 3 (ipykernel)",
   "language": "python",
   "name": "python3"
  },
  "language_info": {
   "codemirror_mode": {
    "name": "ipython",
    "version": 3
   },
   "file_extension": ".py",
   "mimetype": "text/x-python",
   "name": "python",
   "nbconvert_exporter": "python",
   "pygments_lexer": "ipython3",
   "version": "3.9.12"
  }
 },
 "nbformat": 4,
 "nbformat_minor": 5
}
